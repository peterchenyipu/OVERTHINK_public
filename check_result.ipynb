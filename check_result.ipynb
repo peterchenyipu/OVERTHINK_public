{
 "cells": [
  {
   "cell_type": "code",
   "execution_count": 2,
   "metadata": {},
   "outputs": [],
   "source": [
    "import pickle\n",
    "import pandas as pd"
   ]
  },
  {
   "cell_type": "code",
   "execution_count": 18,
   "metadata": {},
   "outputs": [],
   "source": [
    "file_path = 'pickle/context_agnostic_defense=True_deepseek-ai_DeepSeek-R1-Distill-Qwen-32B_num_samples_(3)_runs_(0).pkl'\n",
    "with open(file_path, 'rb') as f:\n",
    "    data = pickle.load(f)\n",
    "df = pd.DataFrame(data)"
   ]
  },
  {
   "cell_type": "code",
   "execution_count": 22,
   "metadata": {},
   "outputs": [
    {
     "name": "stdout",
     "output_type": "stream",
     "text": [
      "CompletionUsage(completion_tokens=1680, prompt_tokens=22896, total_tokens=24576, completion_tokens_details=None, prompt_tokens_details=None)\n"
     ]
    }
   ],
   "source": [
    "def get_ds_thinking_content(df, question_number: int, index: int) -> str:\n",
    "    \"\"\"\n",
    "    Get the reasoning content of the DeepSeek response for a specific question and index.\n",
    "    \n",
    "    Args:\n",
    "        df (pd.DataFrame): The DataFrame containing the responses.\n",
    "        question_number (int): The question number (1-5).\n",
    "        index (int): The index of the response to retrieve.\n",
    "    \n",
    "    Returns:\n",
    "        str: The reasoning content of the specified response.\n",
    "    \"\"\"\n",
    "    print(df[f'attack_response_{index}'].iloc[question_number]['entire respose'].usage)\n",
    "    return df[f'attack_response_{index}'].iloc[question_number]['entire respose'].choices[0].message.reasoning_content\n",
    "\n",
    "reason_content = get_ds_thinking_content(df, question_number=0, index=4)\n",
    "# save to text file\n",
    "with open('reasoning_content.txt', 'w') as f:\n",
    "    f.write(reason_content)\n",
    "    "
   ]
  }
 ],
 "metadata": {
  "kernelspec": {
   "display_name": ".venv",
   "language": "python",
   "name": "python3"
  },
  "language_info": {
   "codemirror_mode": {
    "name": "ipython",
    "version": 3
   },
   "file_extension": ".py",
   "mimetype": "text/x-python",
   "name": "python",
   "nbconvert_exporter": "python",
   "pygments_lexer": "ipython3",
   "version": "3.10.12"
  }
 },
 "nbformat": 4,
 "nbformat_minor": 2
}
