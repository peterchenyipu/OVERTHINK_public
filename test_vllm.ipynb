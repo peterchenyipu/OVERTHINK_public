{
 "cells": [
  {
   "cell_type": "code",
   "execution_count": 7,
   "id": "3892717a",
   "metadata": {},
   "outputs": [
    {
     "name": "stdout",
     "output_type": "stream",
     "text": [
      "The autoreload extension is already loaded. To reload it, use:\n",
      "  %reload_ext autoreload\n",
      "Begin Asking\n",
      "Got Response\n",
      "input_tokens:  59\n",
      "output_tokens:  8\n",
      "reasoning_tokens:  152\n"
     ]
    }
   ],
   "source": [
    "%load_ext autoreload\n",
    "%autoreload 2\n",
    "import utils\n",
    "\n",
    "prompt = \"\"\"\n",
    "You are a helpful assistant that can answer questions about the world.\n",
    "You will be given a question and you should answer it in a single sentence.\n",
    "If you don't know the answer, say \"I don't know\".\n",
    "Question: What is the capital of France?\n",
    "\"\"\"\n",
    "r = utils.run_command(\n",
    "    prompt=prompt,\n",
    "    model='deepseek-ai/DeepSeek-R1-Distill-Qwen-7B',\n",
    ")"
   ]
  },
  {
   "cell_type": "code",
   "execution_count": 5,
   "id": "72bb4264",
   "metadata": {},
   "outputs": [
    {
     "data": {
      "text/plain": [
       "CompletionUsage(completion_tokens=172, prompt_tokens=59, total_tokens=231, completion_tokens_details=None, prompt_tokens_details=None)"
      ]
     },
     "execution_count": 5,
     "metadata": {},
     "output_type": "execute_result"
    }
   ],
   "source": [
    "r.usage"
   ]
  }
 ],
 "metadata": {
  "kernelspec": {
   "display_name": ".venv",
   "language": "python",
   "name": "python3"
  },
  "language_info": {
   "codemirror_mode": {
    "name": "ipython",
    "version": 3
   },
   "file_extension": ".py",
   "mimetype": "text/x-python",
   "name": "python",
   "nbconvert_exporter": "python",
   "pygments_lexer": "ipython3",
   "version": "3.10.12"
  }
 },
 "nbformat": 4,
 "nbformat_minor": 5
}
