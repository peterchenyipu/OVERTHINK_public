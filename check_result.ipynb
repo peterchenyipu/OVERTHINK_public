{
 "cells": [
  {
   "cell_type": "code",
   "execution_count": 1,
   "metadata": {},
   "outputs": [],
   "source": [
    "import pickle\n",
    "import pandas as pd"
   ]
  },
  {
   "cell_type": "code",
   "execution_count": 2,
   "metadata": {},
   "outputs": [],
   "source": [
    "file_path = '/home/peteop/OVERTHINK_public/pickle/context_agnostic_deepseek-r1:14b_num_samples_(5)_runs_(0).pkl'\n",
    "with open(file_path, 'rb') as f:\n",
    "    data = pickle.load(f)\n",
    "df = pd.DataFrame(data)"
   ]
  },
  {
   "cell_type": "code",
   "execution_count": 5,
   "metadata": {},
   "outputs": [
    {
     "data": {
      "text/plain": [
       "Index(['id', 'split', 'question', 'effective_year', 'next_review',\n",
       "       'false_premise', 'num_hops', 'fact_type', 'source', 'answer_0',\n",
       "       'answer_1', 'answer_2', 'answer_3', 'answer_4', 'answer_5', 'answer_6',\n",
       "       'answer_7', 'answer_8', 'answer_9', 'note', 'original_response',\n",
       "       'attack_response_1', 'attack_response_2', 'attack_response_3',\n",
       "       'attack_response_4', 'attack_response_5', 'attack_response_6',\n",
       "       'attack_response_7', 'attack_response_8', 'attack_response_9',\n",
       "       'attack_response_10'],\n",
       "      dtype='object')"
      ]
     },
     "execution_count": 5,
     "metadata": {},
     "output_type": "execute_result"
    }
   ],
   "source": [
    "df.columns"
   ]
  },
  {
   "cell_type": "code",
   "execution_count": null,
   "metadata": {},
   "outputs": [
    {
     "ename": "SyntaxError",
     "evalue": "incomplete input (1726049284.py, line 2)",
     "output_type": "error",
     "traceback": [
      "\u001b[0;36m  Cell \u001b[0;32mIn[3], line 2\u001b[0;36m\u001b[0m\n\u001b[0;31m    \u001b[0m\n\u001b[0m    ^\u001b[0m\n\u001b[0;31mSyntaxError\u001b[0m\u001b[0;31m:\u001b[0m incomplete input\n"
     ]
    }
   ],
   "source": [
    "def get_ds_thinking_content(df, question_number: int, index: int) -> str:\n",
    "    "
   ]
  }
 ],
 "metadata": {
  "kernelspec": {
   "display_name": ".venv",
   "language": "python",
   "name": "python3"
  },
  "language_info": {
   "codemirror_mode": {
    "name": "ipython",
    "version": 3
   },
   "file_extension": ".py",
   "mimetype": "text/x-python",
   "name": "python",
   "nbconvert_exporter": "python",
   "pygments_lexer": "ipython3",
   "version": "3.10.12"
  }
 },
 "nbformat": 4,
 "nbformat_minor": 2
}
