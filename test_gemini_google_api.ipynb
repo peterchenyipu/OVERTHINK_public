{
 "cells": [
  {
   "cell_type": "code",
   "execution_count": null,
   "id": "e543b9bd",
   "metadata": {},
   "outputs": [],
   "source": [
    "# auto reload\n",
    "%load_ext autoreload\n",
    "%autoreload 2\n",
    "\n",
    "from google import genai\n",
    "\n",
    "\n",
    "%load_ext dotenv\n",
    "%dotenv\n",
    "\n",
    "import os\n",
    "\n",
    "api_key = os.getenv('GEMINI_TOKEN')\n",
    "prompt = \"Explain the concept of Occam's Razor and provide a simple, everyday example.\"\n"
   ]
  },
  {
   "cell_type": "code",
   "execution_count": null,
   "id": "56e16c3e",
   "metadata": {},
   "outputs": [],
   "source": [
    "client = genai.Client(api_key=api_key)\n",
    "response = client.models.generate_content(\n",
    "    model=\"gemini-2.5-pro-exp-03-25\",  # or gemini-2.0-flash-thinking-exp\n",
    "    contents=prompt\n",
    ")\n",
    "\n",
    "print(response.text)\n",
    "response.usage_metadata"
   ]
  },
  {
   "cell_type": "code",
   "execution_count": null,
   "id": "cdfc8f21",
   "metadata": {},
   "outputs": [],
   "source": [
    "output_tokens = client.models.count_tokens(\n",
    "    model=\"gemini-2.5-pro-exp-03-25\",\n",
    "    contents=response.text,\n",
    ").total_tokens\n",
    "reasoning_tokens = response.usage_metadata.thoughts_token_count\n",
    "print(f\"Output tokens: {output_tokens}\")\n",
    "print(f\"Reasoning tokens: {reasoning_tokens}\")\n",
    "print(f'Manual count = {output_tokens + reasoning_tokens}')\n",
    "completion_tokens = response.usage_metadata.candidates_token_count\n",
    "print(f'completion={completion_tokens}')"
   ]
  },
  {
   "cell_type": "code",
   "execution_count": null,
   "id": "3856e931",
   "metadata": {},
   "outputs": [],
   "source": [
    "import utils\n",
    "\n",
    "utils.run_command(\n",
    "    prompt=prompt,\n",
    "    model='gemini',\n",
    ")"
   ]
  }
 ],
 "metadata": {
  "kernelspec": {
   "display_name": ".venv",
   "language": "python",
   "name": "python3"
  },
  "language_info": {
   "codemirror_mode": {
    "name": "ipython",
    "version": 3
   },
   "file_extension": ".py",
   "mimetype": "text/x-python",
   "name": "python",
   "nbconvert_exporter": "python",
   "pygments_lexer": "ipython3",
   "version": "3.10.12"
  }
 },
 "nbformat": 4,
 "nbformat_minor": 5
}
