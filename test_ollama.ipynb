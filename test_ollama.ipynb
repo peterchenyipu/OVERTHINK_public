{
 "cells": [
  {
   "cell_type": "code",
   "execution_count": 1,
   "id": "1b1ea779",
   "metadata": {},
   "outputs": [
    {
     "name": "stdout",
     "output_type": "stream",
     "text": [
      "<think>\n",
      "Okay, so I need to figure out where the World Series game that the answer mentioned took place. The previous conversation said that the Los Angeles Dodgers won the World Series in 2020 and just provided the date of October 31st without specifying the location. \n",
      "\n",
      "Hmm, I know that major league baseball games are usually played at various stadiums across the country. However, for international audiences or fans who might not be familiar with American sports terms, it's good to clarify which exact city the game was held in.\n",
      "\n",
      "I recall that when I last heard about the Dodgers winning the World Series, it was indeed a significant event. So, I should look up where their home stadium is located. The LA Dodgers play atDodger Stadium, right? That's in Los Angeles, California.\n",
      "\n",
      "Wait, but could there be another team playing in the WS that year? Let me think—I believe in 2020, the Series was between the LA Dodgers and the Houston Astros. The final game was on October 31st. Since both teams are from the American League, it would naturally be hosted by one of their home stadiums.\n",
      "\n",
      "Given that it's a series, each team has their own stadium. But the question is about where the Game was played, referring to just one place for the entire series? Or maybe the specific game on October 31st?\n",
      "\n",
      "No, wait—the date usually refers to the final game being held where. So if the final was on October 31st in Los Angeles, it must have been at Dodgers Stadium.\n",
      "\n",
      "So putting it all together: The World Series in 2020 took place in Los Angeles, specifically at Dodger Stadium. That also explains why I assumed that location without asking further.\n",
      "</think>\n",
      "\n",
      "The World Series game held in 2020 took place in Los Angeles. Specifically, the final game of the series was played at Dodger Stadium in Los Angeles.\n"
     ]
    }
   ],
   "source": [
    "from openai import OpenAI\n",
    "\n",
    "client = OpenAI(\n",
    "    base_url = 'http://localhost:11434/v1',\n",
    "    api_key='ollama', # required, but unused\n",
    ")\n",
    "\n",
    "response = client.chat.completions.create(\n",
    "  model=\"deepseek-r1\",\n",
    "  messages=[\n",
    "    {\"role\": \"system\", \"content\": \"You are a helpful assistant.\"},\n",
    "    {\"role\": \"user\", \"content\": \"Who won the world series in 2020?\"},\n",
    "    {\"role\": \"assistant\", \"content\": \"The LA Dodgers won in 2020.\"},\n",
    "    {\"role\": \"user\", \"content\": \"Where was it played?\"}\n",
    "  ]\n",
    ")\n",
    "print(response.choices[0].message.content)"
   ]
  },
  {
   "cell_type": "code",
   "execution_count": 2,
   "id": "c55e2161",
   "metadata": {},
   "outputs": [
    {
     "data": {
      "text/plain": [
       "ChatCompletion(id='chatcmpl-893', choices=[Choice(finish_reason='stop', index=0, logprobs=None, message=ChatCompletionMessage(content=\"<think>\\nOkay, so I need to figure out where the World Series game that the answer mentioned took place. The previous conversation said that the Los Angeles Dodgers won the World Series in 2020 and just provided the date of October 31st without specifying the location. \\n\\nHmm, I know that major league baseball games are usually played at various stadiums across the country. However, for international audiences or fans who might not be familiar with American sports terms, it's good to clarify which exact city the game was held in.\\n\\nI recall that when I last heard about the Dodgers winning the World Series, it was indeed a significant event. So, I should look up where their home stadium is located. The LA Dodgers play atDodger Stadium, right? That's in Los Angeles, California.\\n\\nWait, but could there be another team playing in the WS that year? Let me think—I believe in 2020, the Series was between the LA Dodgers and the Houston Astros. The final game was on October 31st. Since both teams are from the American League, it would naturally be hosted by one of their home stadiums.\\n\\nGiven that it's a series, each team has their own stadium. But the question is about where the Game was played, referring to just one place for the entire series? Or maybe the specific game on October 31st?\\n\\nNo, wait—the date usually refers to the final game being held where. So if the final was on October 31st in Los Angeles, it must have been at Dodgers Stadium.\\n\\nSo putting it all together: The World Series in 2020 took place in Los Angeles, specifically at Dodger Stadium. That also explains why I assumed that location without asking further.\\n</think>\\n\\nThe World Series game held in 2020 took place in Los Angeles. Specifically, the final game of the series was played at Dodger Stadium in Los Angeles.\", refusal=None, role='assistant', annotations=None, audio=None, function_call=None, tool_calls=None))], created=1744509089, model='deepseek-r1', object='chat.completion', service_tier=None, system_fingerprint='fp_ollama', usage=CompletionUsage(completion_tokens=395, prompt_tokens=40, total_tokens=435, completion_tokens_details=None, prompt_tokens_details=None))"
      ]
     },
     "execution_count": 2,
     "metadata": {},
     "output_type": "execute_result"
    }
   ],
   "source": [
    "response"
   ]
  },
  {
   "cell_type": "code",
   "execution_count": 4,
   "id": "2d6d8898",
   "metadata": {},
   "outputs": [
    {
     "data": {
      "text/plain": [
       "\"<think>\\nOkay, so I need to figure out where the World Series game that the answer mentioned took place. The previous conversation said that the Los Angeles Dodgers won the World Series in 2020 and just provided the date of October 31st without specifying the location. \\n\\nHmm, I know that major league baseball games are usually played at various stadiums across the country. However, for international audiences or fans who might not be familiar with American sports terms, it's good to clarify which exact city the game was held in.\\n\\nI recall that when I last heard about the Dodgers winning the World Series, it was indeed a significant event. So, I should look up where their home stadium is located. The LA Dodgers play atDodger Stadium, right? That's in Los Angeles, California.\\n\\nWait, but could there be another team playing in the WS that year? Let me think—I believe in 2020, the Series was between the LA Dodgers and the Houston Astros. The final game was on October 31st. Since both teams are from the American League, it would naturally be hosted by one of their home stadiums.\\n\\nGiven that it's a series, each team has their own stadium. But the question is about where the Game was played, referring to just one place for the entire series? Or maybe the specific game on October 31st?\\n\\nNo, wait—the date usually refers to the final game being held where. So if the final was on October 31st in Los Angeles, it must have been at Dodgers Stadium.\\n\\nSo putting it all together: The World Series in 2020 took place in Los Angeles, specifically at Dodger Stadium. That also explains why I assumed that location without asking further.\\n</think>\\n\\nThe World Series game held in 2020 took place in Los Angeles. Specifically, the final game of the series was played at Dodger Stadium in Los Angeles.\""
      ]
     },
     "execution_count": 4,
     "metadata": {},
     "output_type": "execute_result"
    }
   ],
   "source": [
    "response.choices[0].message.content"
   ]
  }
 ],
 "metadata": {
  "kernelspec": {
   "display_name": ".venv",
   "language": "python",
   "name": "python3"
  },
  "language_info": {
   "codemirror_mode": {
    "name": "ipython",
    "version": 3
   },
   "file_extension": ".py",
   "mimetype": "text/x-python",
   "name": "python",
   "nbconvert_exporter": "python",
   "pygments_lexer": "ipython3",
   "version": "3.10.12"
  }
 },
 "nbformat": 4,
 "nbformat_minor": 5
}
